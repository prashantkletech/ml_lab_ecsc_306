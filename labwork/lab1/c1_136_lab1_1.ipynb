{
 "cells": [
  {
   "cell_type": "code",
   "execution_count": 1,
   "metadata": {},
   "outputs": [
    {
     "name": "stdout",
     "output_type": "stream",
     "text": [
      "25\n"
     ]
    }
   ],
   "source": [
    "import tensorflow as tf\n",
    "\n",
    "a=tf.constant(2)\n",
    "b=tf.constant(3)\n",
    "\n",
    "with tf.name_scope(\"MyOperationGroup1\"):\n",
    "    with tf.name_scope(\"Scope_A\"):\n",
    "        a1 = tf.square(a,name=\"a_square\")\n",
    "    with tf.name_scope(\"Scope_B\"):\n",
    "        b1 = tf.square(b,name=\"b_square\")\n",
    "    with tf.name_scope(\"Scope_2ab\"):\n",
    "        x = tf.multiply(a,b)\n",
    "        y = tf.multiply(x,2)\n",
    "        \n",
    "with tf.name_scope(\"MyOperationGroup2\"):\n",
    "    with tf.name_scope(\"Scope_Add1\"):\n",
    "        sum1 = tf.add(a1,b1)\n",
    "    with tf.name_scope(\"Scope_Add2\"):\n",
    "        sum2 = tf.add(sum1,y)\n",
    "\n",
    "with tf.Session() as sess:\n",
    "    writer = tf.summary.FileWriter(\"/tmp/tboard/output1\", sess.graph)\n",
    "    print(sess.run(sum2))\n",
    "    writer.close()"
   ]
  },
  {
   "cell_type": "code",
   "execution_count": 15,
   "metadata": {},
   "outputs": [
    {
     "name": "stdout",
     "output_type": "stream",
     "text": [
      "1\n"
     ]
    }
   ],
   "source": [
    "import tensorflow as tf\n",
    "\n",
    "a=tf.constant(2)\n",
    "b=tf.constant(3)\n",
    "c=tf.constant(2)\n",
    "\n",
    "with tf.name_scope(\"MyOperationGroupSquare\"):\n",
    "    with tf.name_scope(\"Scope_A\"):\n",
    "        a1 = tf.square(a,name=\"a_square\")\n",
    "    with tf.name_scope(\"Scope_B\"):\n",
    "        b1 = tf.square(b,name=\"b_square\")\n",
    "    with tf.name_scope(\"Scope_C\"):\n",
    "        c1 = tf.square(c,name=\"c_square\")\n",
    "        \n",
    "with tf.name_scope(\"MyOperationGroupProduct\"):\n",
    "    with tf.name_scope(\"Scope_2ab\"):\n",
    "        x = tf.multiply(a,b)\n",
    "        ab_2 = tf.multiply(x,2)\n",
    "    with tf.name_scope(\"Scope_2bc\"):\n",
    "        x = tf.multiply(b,c)\n",
    "        bc_2 = tf.multiply(x,2)\n",
    "    with tf.name_scope(\"Scope_2ac\"):\n",
    "        x = tf.multiply(a,c)\n",
    "        ac_2 = tf.multiply(x,2)\n",
    "\n",
    "with tf.name_scope(\"MyOperationGroupFinal\"):\n",
    "        sum1=tf.add(a1,b1,name=\"Add1\")\n",
    "        sum2=tf.add(sum1,c1,name=\"Add2\")\n",
    "        sum3=tf.add(ab_2,bc_2,name=\"Add3\")\n",
    "        dif1=tf.subtract(ac_2,sum3,name=\"Sub1\")\n",
    "        SumFinal=tf.add(sum2,dif1,name=\"Result\")\n",
    "\n",
    "with tf.Session() as sess:\n",
    "    writer = tf.summary.FileWriter(\"/tmp/tboard/output2\", sess.graph)\n",
    "    print(sess.run(SumFinal))\n",
    "    writer.close()\n"
   ]
  },
  {
   "cell_type": "code",
   "execution_count": null,
   "metadata": {
    "collapsed": true
   },
   "outputs": [],
   "source": []
  }
 ],
 "metadata": {
  "kernelspec": {
   "display_name": "Python 3",
   "language": "python",
   "name": "python3"
  },
  "language_info": {
   "codemirror_mode": {
    "name": "ipython",
    "version": 3
   },
   "file_extension": ".py",
   "mimetype": "text/x-python",
   "name": "python",
   "nbconvert_exporter": "python",
   "pygments_lexer": "ipython3",
   "version": "3.6.1"
  }
 },
 "nbformat": 4,
 "nbformat_minor": 2
}

