{
 "cells": [
  {
   "cell_type": "code",
   "execution_count": null,
   "metadata": {
    "collapsed": true
   },
   "outputs": [],
   "source": [
    "import tensorflow as tf\n",
    "\n",
    "with tf.name_scope(\"Eval2\"):\n",
    "    with tf.name_scope(\"Scope_getsquares\"):\n",
    "        a=tf.square(8,name=\"sqr_a\")\n",
    "        b=tf.square(9,name=\"sqr_b\")\n",
    "        c=tf.square(4,name=\"sqr_c\")\n",
    "    with tf.name_scope(\"Scope_mul\"):\n",
    "        d=tf.multiply(8,9,name=\"mul_ab\")\n",
    "        e=tf.multiply(9,4,name=\"mul_bc\")\n",
    "        f=tf.multiply(8,4,name=\"mul_ac\")\n",
    "        with tf.name_scope(\"mul_2\"):\n",
    "            x=tf.multiply(d,2,name=\"2ab\")\n",
    "            y=tf.multiply(e,2,name=\"2bc\")\n",
    "            z=tf.multiply(f,2,name=\"2ac\")\n",
    "        \n",
    "with tf.name_scope(\"squares_sum\"):\n",
    "    f1=tf.add(a,b)\n",
    "    f2=tf.add(c,f1)\n",
    "with tf.name_scope(\"mul_sum\"):\n",
    "    f3=tf.add(x,y)\n",
    "    f4=tf.subtract(f3,z) \n",
    "res=tf.subtract(f2,f4,name=\"Final\")\n",
    "\n",
    "with tf.Session() as sess1:\n",
    "    writer = tf.summary.FileWriter(\"/tmp/tboard/out_1\", sess1.graph)\n",
    "    print(sess1.run(res))\n",
    "    writer.close()"
   ]
  }
 ],
 "metadata": {
  "kernelspec": {
   "display_name": "Python 3",
   "language": "python",
   "name": "python3"
  },
  "language_info": {
   "codemirror_mode": {
    "name": "ipython",
    "version": 3
   },
   "file_extension": ".py",
   "mimetype": "text/x-python",
   "name": "python",
   "nbconvert_exporter": "python",
   "pygments_lexer": "ipython3",
   "version": "3.6.1"
  }
 },
 "nbformat": 4,
 "nbformat_minor": 2
}
