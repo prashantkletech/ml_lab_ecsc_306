{
 "cells": [
  {
   "cell_type": "code",
   "execution_count": 5,
   "metadata": {},
   "outputs": [
    {
     "name": "stdout",
     "output_type": "stream",
     "text": [
      "b'y=mx+c'\n",
      "4.0\n",
      "b'm:' 1.0266\n",
      "b'c:' -0.0320525\n",
      "b'Actual values of Y' [ 1.39999998  2.5999999   3.5         4.9000001   5.19999981]\n",
      "b'predicted values of Y' [ 1.5078547   2.63711977  3.25308275  4.89565039  5.30629206]\n",
      "0.130611\n"
     ]
    },
    {
     "data": {
      "image/png": "[encoded data removed]",
      "text/plain": [
       "<matplotlib.figure.Figure at 0x7f61486aab70>"
      ]
     },
     "metadata": {},
     "output_type": "display_data"
    }
   ],
   "source": [
    "import tensorflow as tf\n",
    "import matplotlib.pyplot as plt\n",
    "\n",
    "x=tf.constant([1.5,2.6,3.2,4.8,5.2],name='a')\n",
    "y=tf.constant([1.4,2.6,3.5,4.9,5.2],name='b')\n",
    "z=tf.constant(1.0)\n",
    "e=tf.constant(\"y=mx+c\")\n",
    "ms=tf.constant(\"m:\")\n",
    "mc=tf.constant(\"c:\")\n",
    "ac=tf.constant(\"Actual values of Y\")\n",
    "pc=tf.constant(\"predicted values of Y\")\n",
    "\n",
    "# MEAN OF X, Y\n",
    "meanx = tf.reduce_mean(x)\n",
    "meany = tf.reduce_mean(y)\n",
    "\n",
    "   \n",
    "# X-MEAN , Y-MEAN\n",
    "varx=tf.Variable(x-meanx, name='varx')\n",
    "vary=tf.Variable(y-meany, name='vary')\n",
    "l=tf.size(x)\n",
    "a=tf.subtract(l,1)\n",
    "a=tf.cast(a,tf.float32)\n",
    "#VS=X-MEAN SQUARE, SUM OF VS\n",
    "vs=tf.square(varx)\n",
    "sn=tf.reduce_sum(vs)\n",
    "sm=tf.div(sn,a)\n",
    "\n",
    "   \n",
    "#COVARIENCE  OF X,Y\n",
    "CV=tf.multiply(varx,vary)\n",
    "cm=tf.reduce_sum(CV)\n",
    "cv=tf.div(cm,a)\n",
    "\n",
    "\n",
    "#calculation of m and c\n",
    "m=tf.divide(cv,sm)\n",
    "c=meany-(meanx*m)\n",
    "\n",
    "#Predicted values of Y\n",
    "p=tf.multiply(x,m)\n",
    "pry=tf.add(p,c)    \n",
    "\n",
    "\n",
    "#calculating root-mean-square-error\n",
    "rms=tf.sqrt(tf.reduce_mean(tf.squared_difference(y,pry)))\n",
    "   \n",
    "init = tf.global_variables_initializer()\n",
    "sess = tf.Session()\n",
    "sess.run(init)\n",
    " \n",
    "print(sess.run(e))\n",
    "print(sess.run(a))\n",
    "print(sess.run(ms),sess.run(m))\n",
    "print(sess.run(mc),sess.run(c))\n",
    "\n",
    "print(sess.run(ac),sess.run(y))\n",
    "print(sess.run(pc),sess.run(pry))\n",
    "print(sess.run(rms))\n",
    "\n",
    "plt.plot(sess.run(y),sess.run(pry),label='actual_vs_predicted')\n",
    "plt.legend()\n",
    "plt.show()"
   ]
  },
  {
   "cell_type": "code",
   "execution_count": null,
   "metadata": {
    "collapsed": true
   },
   "outputs": [],
   "source": []
  },
  {
   "cell_type": "code",
   "execution_count": null,
   "metadata": {
    "collapsed": true
   },
   "outputs": [],
   "source": []
  }
 ],
 "metadata": {
  "kernelspec": {
   "display_name": "Python 3",
   "language": "python",
   "name": "python3"
  },
  "language_info": {
   "codemirror_mode": {
    "name": "ipython",
    "version": 3
   },
   "file_extension": ".py",
   "mimetype": "text/x-python",
   "name": "python",
   "nbconvert_exporter": "python",
   "pygments_lexer": "ipython3",
   "version": "3.6.1"
  }
 },
 "nbformat": 4,
 "nbformat_minor": 2
}
